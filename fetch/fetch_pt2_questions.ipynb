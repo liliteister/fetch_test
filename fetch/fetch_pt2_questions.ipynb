{
 "cells": [
  {
   "cell_type": "markdown",
   "id": "2670db12",
   "metadata": {},
   "source": [
    "## Fetch Rewards Coding Test\n",
    "### Stakholder Questions\n",
    "\n",
    "7/21/2021\n",
    "Lili Teister\n",
    "\n",
    "**Exercise:** https://fetch-hiring.s3.amazonaws.com/data-analyst/ineeddata-data-modeling/data-modeling.html"
   ]
  },
  {
   "cell_type": "code",
   "execution_count": 1,
   "id": "fa8aec64",
   "metadata": {},
   "outputs": [],
   "source": [
    "import sqlite3\n",
    "import pandas as pd"
   ]
  },
  {
   "cell_type": "code",
   "execution_count": 3,
   "id": "26a51ada",
   "metadata": {},
   "outputs": [
    {
     "name": "stdout",
     "output_type": "stream",
     "text": [
      "Database fetchTest.db connected with sqlite version 2.6.0\n"
     ]
    }
   ],
   "source": [
    "def sqlite_connection(dbname):\n",
    "    c = None\n",
    "    try:\n",
    "        c = sqlite3.connect(dbname)\n",
    "        print(f\"Database {dbname} connected with sqlite version {sqlite3.version}\")\n",
    "    except Error as err:\n",
    "        print(err)\n",
    "        \n",
    "    return c\n",
    "\n",
    "conn = sqlite_connection('fetchTest.db')"
   ]
  },
  {
   "cell_type": "markdown",
   "id": "d169ddbb",
   "metadata": {},
   "source": [
    "__Selected Questions:__\n",
    "- When considering average spend from receipts with 'rewardsReceiptStatus’ of ‘Accepted’ or ‘Rejected’, which is greater?\n",
    "- When considering total number of items purchased from receipts with 'rewardsReceiptStatus’ of ‘Accepted’ or ‘Rejected’, which is greater?"
   ]
  },
  {
   "cell_type": "code",
   "execution_count": 23,
   "id": "d2a7e183",
   "metadata": {},
   "outputs": [],
   "source": [
    "sql_qc = '''\n",
    "    SELECT \n",
    "        count(1) as N\n",
    "    FROM \n",
    "        receiptsFact\n",
    "    WHERE \n",
    "        (\n",
    "            purchasedItemCount IS NULL\n",
    "            OR totalSpent IS NULL\n",
    "        )\n",
    "        AND rewardsReceiptStatus IN ('FINISHED','REJECTED')\n",
    "'''\n",
    "\n",
    "sql = '''\n",
    "    SELECT \n",
    "        rewardsReceiptStatus\n",
    "        , SUM(purchasedItemCount) as totalItemsPurchased\n",
    "        , AVG(totalSpent) as averageSpend\n",
    "    FROM \n",
    "        receiptsFact \n",
    "    WHERE \n",
    "        rewardsReceiptStatus IN ('FINISHED','REJECTED')\n",
    "    GROUP BY \n",
    "        rewardsReceiptStatus\n",
    "'''\n"
   ]
  },
  {
   "cell_type": "markdown",
   "id": "10c22548",
   "metadata": {},
   "source": [
    "I am making an assumption that 'FINISHED' receipt status is synonymous with 'ACCEPTED.' For records with a 'FINISHED' or 'REJECTED' receipt status, there is no missing data for number of items purchased or total spent."
   ]
  },
  {
   "cell_type": "code",
   "execution_count": 24,
   "id": "3a603013",
   "metadata": {},
   "outputs": [
    {
     "name": "stdout",
     "output_type": "stream",
     "text": [
      "Verifying there is no missing data...\n"
     ]
    },
    {
     "data": {
      "text/html": [
       "<div>\n",
       "<style scoped>\n",
       "    .dataframe tbody tr th:only-of-type {\n",
       "        vertical-align: middle;\n",
       "    }\n",
       "\n",
       "    .dataframe tbody tr th {\n",
       "        vertical-align: top;\n",
       "    }\n",
       "\n",
       "    .dataframe thead th {\n",
       "        text-align: right;\n",
       "    }\n",
       "</style>\n",
       "<table border=\"1\" class=\"dataframe\">\n",
       "  <thead>\n",
       "    <tr style=\"text-align: right;\">\n",
       "      <th></th>\n",
       "      <th>N</th>\n",
       "    </tr>\n",
       "  </thead>\n",
       "  <tbody>\n",
       "    <tr>\n",
       "      <th>0</th>\n",
       "      <td>0</td>\n",
       "    </tr>\n",
       "  </tbody>\n",
       "</table>\n",
       "</div>"
      ],
      "text/plain": [
       "   N\n",
       "0  0"
      ]
     },
     "execution_count": 24,
     "metadata": {},
     "output_type": "execute_result"
    }
   ],
   "source": [
    "print(\"Verifying there is no missing data...\")\n",
    "pd.read_sql_query(sql_qc, conn)"
   ]
  },
  {
   "cell_type": "code",
   "execution_count": 25,
   "id": "e7347e8d",
   "metadata": {},
   "outputs": [
    {
     "name": "stdout",
     "output_type": "stream",
     "text": [
      "Results:\n"
     ]
    },
    {
     "data": {
      "text/html": [
       "<div>\n",
       "<style scoped>\n",
       "    .dataframe tbody tr th:only-of-type {\n",
       "        vertical-align: middle;\n",
       "    }\n",
       "\n",
       "    .dataframe tbody tr th {\n",
       "        vertical-align: top;\n",
       "    }\n",
       "\n",
       "    .dataframe thead th {\n",
       "        text-align: right;\n",
       "    }\n",
       "</style>\n",
       "<table border=\"1\" class=\"dataframe\">\n",
       "  <thead>\n",
       "    <tr style=\"text-align: right;\">\n",
       "      <th></th>\n",
       "      <th>rewardsReceiptStatus</th>\n",
       "      <th>totalItemsPurchased</th>\n",
       "      <th>averageSpend</th>\n",
       "    </tr>\n",
       "  </thead>\n",
       "  <tbody>\n",
       "    <tr>\n",
       "      <th>0</th>\n",
       "      <td>FINISHED</td>\n",
       "      <td>8184</td>\n",
       "      <td>80.854305</td>\n",
       "    </tr>\n",
       "    <tr>\n",
       "      <th>1</th>\n",
       "      <td>REJECTED</td>\n",
       "      <td>173</td>\n",
       "      <td>23.326056</td>\n",
       "    </tr>\n",
       "  </tbody>\n",
       "</table>\n",
       "</div>"
      ],
      "text/plain": [
       "  rewardsReceiptStatus  totalItemsPurchased  averageSpend\n",
       "0             FINISHED                 8184     80.854305\n",
       "1             REJECTED                  173     23.326056"
      ]
     },
     "execution_count": 25,
     "metadata": {},
     "output_type": "execute_result"
    }
   ],
   "source": [
    "print(\"Results:\")\n",
    "pd.read_sql_query(sql, conn)"
   ]
  },
  {
   "cell_type": "markdown",
   "id": "9e2bc37b",
   "metadata": {},
   "source": [
    "### Conclusion:\n",
    "\n",
    "- When considering average spend from receipts with 'rewardsReceiptStatus’ of ‘Accepted’ or ‘Rejected’, which is greater?\n",
    "\n",
    "**Average spend is greater for receipts with a status of 'FINISHED' compared to 'REJECTED'.**\n",
    "\n",
    "- When considering total number of items purchased from receipts with 'rewardsReceiptStatus’ of ‘Accepted’ or ‘Rejected’, which is greater?\n",
    "\n",
    "**The total number of items purchased is greater for receipts with a status of 'FINISHED' compared to 'REJECTED'.**\n",
    "\n",
    "---\n"
   ]
  },
  {
   "cell_type": "code",
   "execution_count": 26,
   "id": "7662e480",
   "metadata": {},
   "outputs": [],
   "source": [
    "conn.close()"
   ]
  },
  {
   "cell_type": "code",
   "execution_count": null,
   "id": "e6502ab3",
   "metadata": {},
   "outputs": [],
   "source": []
  }
 ],
 "metadata": {
  "kernelspec": {
   "display_name": "Python 3",
   "language": "python",
   "name": "python3"
  },
  "language_info": {
   "codemirror_mode": {
    "name": "ipython",
    "version": 3
   },
   "file_extension": ".py",
   "mimetype": "text/x-python",
   "name": "python",
   "nbconvert_exporter": "python",
   "pygments_lexer": "ipython3",
   "version": "3.8.5"
  }
 },
 "nbformat": 4,
 "nbformat_minor": 5
}
